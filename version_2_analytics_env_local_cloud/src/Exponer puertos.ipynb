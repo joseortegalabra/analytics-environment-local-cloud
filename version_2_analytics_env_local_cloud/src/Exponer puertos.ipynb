{
 "cells": [
  {
   "cell_type": "code",
   "execution_count": 1,
   "id": "97958422",
   "metadata": {},
   "outputs": [],
   "source": [
    "import numpy as np"
   ]
  },
  {
   "cell_type": "code",
   "execution_count": 2,
   "id": "0cf1ccdc",
   "metadata": {},
   "outputs": [],
   "source": [
    "### PRUEBA DE QUÉ VA PASANDO AL ACTUALIZAR MI IMAGE"
   ]
  },
  {
   "cell_type": "code",
   "execution_count": null,
   "id": "30db214b",
   "metadata": {},
   "outputs": [],
   "source": []
  },
  {
   "cell_type": "markdown",
   "id": "0e01b6d6",
   "metadata": {},
   "source": [
    "# Se necesita exponer el puerto 8888 para tratar que se pueda consultar la app en compute engine"
   ]
  },
  {
   "cell_type": "code",
   "execution_count": null,
   "id": "3a62006a",
   "metadata": {},
   "outputs": [],
   "source": []
  },
  {
   "cell_type": "code",
   "execution_count": null,
   "id": "0f9c200a",
   "metadata": {},
   "outputs": [],
   "source": []
  },
  {
   "cell_type": "markdown",
   "id": "9dfa3467",
   "metadata": {},
   "source": [
    "### 4. Crea una regla de firewall para permitir el tráfico hacia tu instancia de la manera siguiente:\n",
    "PUERTO 8888"
   ]
  },
  {
   "cell_type": "code",
   "execution_count": null,
   "id": "45707520",
   "metadata": {},
   "outputs": [
    {
     "name": "stdout",
     "output_type": "stream",
     "text": [
      "Go to the following link in your browser:\n",
      "\n",
      "    https://accounts.google.com/o/oauth2/auth?response_type=code&client_id=32555940559.apps.googleusercontent.com&redirect_uri=https%3A%2F%2Fsdk.cloud.google.com%2Fauthcode.html&scope=openid+https%3A%2F%2Fwww.googleapis.com%2Fauth%2Fuserinfo.email+https%3A%2F%2Fwww.googleapis.com%2Fauth%2Fcloud-platform+https%3A%2F%2Fwww.googleapis.com%2Fauth%2Fappengine.admin+https%3A%2F%2Fwww.googleapis.com%2Fauth%2Fsqlservice.login+https%3A%2F%2Fwww.googleapis.com%2Fauth%2Fcompute+https%3A%2F%2Fwww.googleapis.com%2Fauth%2Faccounts.reauth&state=Jt7hwyDmHIHX0cweP4ePdhmX0yafWm&prompt=consent&access_type=offline&code_challenge=d92XWP5Ekl9FR_HcydJvgyBGRs0sPFiWYqQfjIKOXzY&code_challenge_method=S256\n",
      "\n",
      "Enter authorization code: "
     ]
    }
   ],
   "source": [
    "### login gcloud\n",
    "!gcloud auth login"
   ]
  },
  {
   "cell_type": "code",
   "execution_count": 3,
   "id": "b607d124",
   "metadata": {},
   "outputs": [
    {
     "name": "stdout",
     "output_type": "stream",
     "text": [
      "\u001b[1;31mERROR:\u001b[0m (gcloud.compute.firewall-rules.create) You do not currently have an active account selected.\n",
      "Please run:\n",
      "\n",
      "  $ gcloud auth login\n",
      "\n",
      "to obtain new credentials.\n",
      "\n",
      "If you have already logged in with a different account, run:\n",
      "\n",
      "  $ gcloud config set account ACCOUNT\n",
      "\n",
      "to select an already authenticated account to use.\n"
     ]
    }
   ],
   "source": [
    "!gcloud compute firewall-rules create default-allow-http-8888 \\\n",
    "    --allow tcp:8888 \\\n",
    "    --source-ranges 0.0.0.0/0 \\\n",
    "    --target-tags http-server \\\n",
    "    --description \"Allow port 8888 access to http-server to analytics environment\""
   ]
  },
  {
   "cell_type": "code",
   "execution_count": null,
   "id": "df4ef43c",
   "metadata": {},
   "outputs": [],
   "source": []
  }
 ],
 "metadata": {
  "kernelspec": {
   "display_name": "Python 3 (ipykernel)",
   "language": "python",
   "name": "python3"
  },
  "language_info": {
   "codemirror_mode": {
    "name": "ipython",
    "version": 3
   },
   "file_extension": ".py",
   "mimetype": "text/x-python",
   "name": "python",
   "nbconvert_exporter": "python",
   "pygments_lexer": "ipython3",
   "version": "3.7.5"
  }
 },
 "nbformat": 4,
 "nbformat_minor": 5
}
