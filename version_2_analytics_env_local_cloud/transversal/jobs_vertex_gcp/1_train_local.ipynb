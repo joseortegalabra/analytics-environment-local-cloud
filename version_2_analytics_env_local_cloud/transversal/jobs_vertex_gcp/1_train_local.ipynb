{
 "cells": [
  {
   "cell_type": "markdown",
   "id": "cf5d89cc-39c4-44e4-8d9f-68eee8fd7e59",
   "metadata": {
    "tags": []
   },
   "source": [
    "### DESARROLLO LOCAL"
   ]
  },
  {
   "cell_type": "code",
   "execution_count": 12,
   "id": "597c5254-97f7-475c-aea5-070fe07f352d",
   "metadata": {},
   "outputs": [
    {
     "name": "stdout",
     "output_type": "stream",
     "text": [
      "Versión de Python: 3.10.12 | packaged by conda-forge | (main, Jun 23 2023, 22:34:57) [MSC v.1936 64 bit (AMD64)]\n",
      "Versión de Pandas: 2.0.3\n",
      "Versión de Numpy: 1.23.5\n",
      "Versión de Scikit-learn: 1.3.1\n"
     ]
    }
   ],
   "source": [
    "import pandas as pd\n",
    "import numpy as np\n",
    "from sklearn.linear_model import LinearRegression\n",
    "from sklearn.metrics import r2_score\n",
    "import sklearn\n",
    "import sys\n",
    "\n",
    "print(\"Versión de Python:\", sys.version)\n",
    "print(\"Versión de Pandas:\", pd.__version__)\n",
    "print(\"Versión de Numpy:\", np.__version__)\n",
    "print(\"Versión de Scikit-learn:\", sklearn.__version__)"
   ]
  },
  {
   "cell_type": "code",
   "execution_count": 13,
   "id": "7b2141e0-662e-44a3-8911-85a61eab793f",
   "metadata": {},
   "outputs": [],
   "source": [
    "PROJECT_ID_DS = 'cmpc-innovation-cd4ml-test'"
   ]
  },
  {
   "cell_type": "markdown",
   "id": "0f7b98d9-9f88-4a5f-8390-5afe518ba70a",
   "metadata": {},
   "source": [
    "### CREATE DATASET"
   ]
  },
  {
   "cell_type": "code",
   "execution_count": 14,
   "id": "7b4d9a2a-8d7d-4957-9c00-633e4edfa33c",
   "metadata": {},
   "outputs": [],
   "source": [
    "def ec(x, y, z):\n",
    "    return 6*np.power(x, 3) + 5*np.power(y,2) + 10 - 7*z"
   ]
  },
  {
   "cell_type": "code",
   "execution_count": 15,
   "id": "1283ff50-7d7b-4b53-9bc8-96f639ed481b",
   "metadata": {},
   "outputs": [
    {
     "data": {
      "text/plain": [
       "array([10.21024472, 11.06382061, 10.10734302, ...,  8.96582415,\n",
       "       13.93325828, 10.74770151])"
      ]
     },
     "execution_count": 15,
     "metadata": {},
     "output_type": "execute_result"
    }
   ],
   "source": [
    "np.random.seed(42)\n",
    "\n",
    "# generate random features\n",
    "len_values = 5000\n",
    "x = np.random.random([len_values, 3])\n",
    "\n",
    "# predict\n",
    "y = ec(x[:, 0], x[:, 1], x[: ,2])\n",
    "\n",
    "# add noise value y\n",
    "y + np.random.random(len_values)"
   ]
  },
  {
   "cell_type": "code",
   "execution_count": null,
   "id": "a1910d71-bfe4-48da-8a42-2be84709d0ac",
   "metadata": {},
   "outputs": [],
   "source": []
  },
  {
   "cell_type": "markdown",
   "id": "3c814c85-e163-460f-8fd7-45d8b210ddcb",
   "metadata": {},
   "source": [
    "### TRAIN MODEL"
   ]
  },
  {
   "cell_type": "code",
   "execution_count": 5,
   "id": "d9a53343-453b-4bbf-ad01-8456c0d2720f",
   "metadata": {
    "scrolled": true
   },
   "outputs": [
    {
     "data": {
      "text/html": [
       "<style>#sk-container-id-1 {color: black;}#sk-container-id-1 pre{padding: 0;}#sk-container-id-1 div.sk-toggleable {background-color: white;}#sk-container-id-1 label.sk-toggleable__label {cursor: pointer;display: block;width: 100%;margin-bottom: 0;padding: 0.3em;box-sizing: border-box;text-align: center;}#sk-container-id-1 label.sk-toggleable__label-arrow:before {content: \"▸\";float: left;margin-right: 0.25em;color: #696969;}#sk-container-id-1 label.sk-toggleable__label-arrow:hover:before {color: black;}#sk-container-id-1 div.sk-estimator:hover label.sk-toggleable__label-arrow:before {color: black;}#sk-container-id-1 div.sk-toggleable__content {max-height: 0;max-width: 0;overflow: hidden;text-align: left;background-color: #f0f8ff;}#sk-container-id-1 div.sk-toggleable__content pre {margin: 0.2em;color: black;border-radius: 0.25em;background-color: #f0f8ff;}#sk-container-id-1 input.sk-toggleable__control:checked~div.sk-toggleable__content {max-height: 200px;max-width: 100%;overflow: auto;}#sk-container-id-1 input.sk-toggleable__control:checked~label.sk-toggleable__label-arrow:before {content: \"▾\";}#sk-container-id-1 div.sk-estimator input.sk-toggleable__control:checked~label.sk-toggleable__label {background-color: #d4ebff;}#sk-container-id-1 div.sk-label input.sk-toggleable__control:checked~label.sk-toggleable__label {background-color: #d4ebff;}#sk-container-id-1 input.sk-hidden--visually {border: 0;clip: rect(1px 1px 1px 1px);clip: rect(1px, 1px, 1px, 1px);height: 1px;margin: -1px;overflow: hidden;padding: 0;position: absolute;width: 1px;}#sk-container-id-1 div.sk-estimator {font-family: monospace;background-color: #f0f8ff;border: 1px dotted black;border-radius: 0.25em;box-sizing: border-box;margin-bottom: 0.5em;}#sk-container-id-1 div.sk-estimator:hover {background-color: #d4ebff;}#sk-container-id-1 div.sk-parallel-item::after {content: \"\";width: 100%;border-bottom: 1px solid gray;flex-grow: 1;}#sk-container-id-1 div.sk-label:hover label.sk-toggleable__label {background-color: #d4ebff;}#sk-container-id-1 div.sk-serial::before {content: \"\";position: absolute;border-left: 1px solid gray;box-sizing: border-box;top: 0;bottom: 0;left: 50%;z-index: 0;}#sk-container-id-1 div.sk-serial {display: flex;flex-direction: column;align-items: center;background-color: white;padding-right: 0.2em;padding-left: 0.2em;position: relative;}#sk-container-id-1 div.sk-item {position: relative;z-index: 1;}#sk-container-id-1 div.sk-parallel {display: flex;align-items: stretch;justify-content: center;background-color: white;position: relative;}#sk-container-id-1 div.sk-item::before, #sk-container-id-1 div.sk-parallel-item::before {content: \"\";position: absolute;border-left: 1px solid gray;box-sizing: border-box;top: 0;bottom: 0;left: 50%;z-index: -1;}#sk-container-id-1 div.sk-parallel-item {display: flex;flex-direction: column;z-index: 1;position: relative;background-color: white;}#sk-container-id-1 div.sk-parallel-item:first-child::after {align-self: flex-end;width: 50%;}#sk-container-id-1 div.sk-parallel-item:last-child::after {align-self: flex-start;width: 50%;}#sk-container-id-1 div.sk-parallel-item:only-child::after {width: 0;}#sk-container-id-1 div.sk-dashed-wrapped {border: 1px dashed gray;margin: 0 0.4em 0.5em 0.4em;box-sizing: border-box;padding-bottom: 0.4em;background-color: white;}#sk-container-id-1 div.sk-label label {font-family: monospace;font-weight: bold;display: inline-block;line-height: 1.2em;}#sk-container-id-1 div.sk-label-container {text-align: center;}#sk-container-id-1 div.sk-container {/* jupyter's `normalize.less` sets `[hidden] { display: none; }` but bootstrap.min.css set `[hidden] { display: none !important; }` so we also need the `!important` here to be able to override the default hidden behavior on the sphinx rendered scikit-learn.org. See: https://github.com/scikit-learn/scikit-learn/issues/21755 */display: inline-block !important;position: relative;}#sk-container-id-1 div.sk-text-repr-fallback {display: none;}</style><div id=\"sk-container-id-1\" class=\"sk-top-container\"><div class=\"sk-text-repr-fallback\"><pre>LinearRegression()</pre><b>In a Jupyter environment, please rerun this cell to show the HTML representation or trust the notebook. <br />On GitHub, the HTML representation is unable to render, please try loading this page with nbviewer.org.</b></div><div class=\"sk-container\" hidden><div class=\"sk-item\"><div class=\"sk-estimator sk-toggleable\"><input class=\"sk-toggleable__control sk-hidden--visually\" id=\"sk-estimator-id-1\" type=\"checkbox\" checked><label for=\"sk-estimator-id-1\" class=\"sk-toggleable__label sk-toggleable__label-arrow\">LinearRegression</label><div class=\"sk-toggleable__content\"><pre>LinearRegression()</pre></div></div></div></div></div>"
      ],
      "text/plain": [
       "LinearRegression()"
      ]
     },
     "execution_count": 5,
     "metadata": {},
     "output_type": "execute_result"
    }
   ],
   "source": [
    "model = LinearRegression()\n",
    "model.fit(x,y)"
   ]
  },
  {
   "cell_type": "code",
   "execution_count": 6,
   "id": "17394013-8be7-40f4-8f00-713bc76cf8d3",
   "metadata": {},
   "outputs": [],
   "source": [
    "y_predicted = model.predict(x)"
   ]
  },
  {
   "cell_type": "markdown",
   "id": "05d27ab2-7597-4c50-8b77-b9b9dba6ff15",
   "metadata": {},
   "source": [
    "### Evaluar model"
   ]
  },
  {
   "cell_type": "code",
   "execution_count": 7,
   "id": "519e83d2-9a89-4fc4-be9a-6acf912d727d",
   "metadata": {},
   "outputs": [
    {
     "data": {
      "text/plain": [
       "0.934927794801364"
      ]
     },
     "execution_count": 7,
     "metadata": {},
     "output_type": "execute_result"
    }
   ],
   "source": [
    "r2_score(y_true = y,\n",
    "         y_pred = y_predicted)"
   ]
  },
  {
   "cell_type": "code",
   "execution_count": null,
   "id": "0b0db6a1-0447-43eb-8395-d5b38f4efb72",
   "metadata": {},
   "outputs": [],
   "source": []
  },
  {
   "cell_type": "markdown",
   "id": "48d5ac9c-612f-4497-8f5f-2504439e841e",
   "metadata": {},
   "source": [
    "### Guardar modelo entrenado"
   ]
  },
  {
   "cell_type": "code",
   "execution_count": null,
   "id": "624bd3dc-3ff8-43fe-86a3-8c7b006020ba",
   "metadata": {},
   "outputs": [],
   "source": []
  },
  {
   "cell_type": "code",
   "execution_count": null,
   "id": "e7369b1b-5a19-4ab3-9a57-a33f09e7b977",
   "metadata": {},
   "outputs": [],
   "source": []
  },
  {
   "cell_type": "code",
   "execution_count": null,
   "id": "585206f7-3a82-4509-89a5-94669b2cd2c2",
   "metadata": {},
   "outputs": [],
   "source": []
  },
  {
   "cell_type": "markdown",
   "id": "aabdbb9c-6558-4833-9194-db627d2cdc2c",
   "metadata": {},
   "source": [
    "### Guardar modelo entrenado para ser registrado en vertex models"
   ]
  },
  {
   "cell_type": "code",
   "execution_count": 8,
   "id": "65a3b15b-5db0-4044-a5f2-f3744120545b",
   "metadata": {},
   "outputs": [],
   "source": [
    "import pickle\n",
    "import os\n",
    "from google.cloud import storage"
   ]
  },
  {
   "cell_type": "code",
   "execution_count": 9,
   "id": "5179f0ef-5f8a-4be1-bf22-e88aac8bb336",
   "metadata": {},
   "outputs": [
    {
     "name": "stdout",
     "output_type": "stream",
     "text": [
      "modelo guardado local\n",
      "path del modelo a GCS - AIP_MODEL_DIR:  None\n",
      "Error:  'AIP_MODEL_DIR'\n",
      "MODELO NO GUARDADO EN GCS\n"
     ]
    }
   ],
   "source": [
    "\"\"\"\n",
    "######## ESTA ES LA ÚNICA PARTE PARA TENER CUIDADO PARA QUE EL SCRIPT FUNCIONE TANTO EN UN ENTRENAMIENTO LOCAL COMO GCP ########\n",
    "- Para que el modelo entrenado quede registrado en el menú \"MODELS\" de Vertex (artefacto del modelo obligatoriamente con el nombre \"model.pkl\") debe ser guardado en un bucket de GCS definido\n",
    "por un path creado automático al enviar el job de entrenamiento en una variable de ambiente \"AIP_MODEL_DIR\" que solo existe cuando se corre el job de entrenamiento en Vertex. \n",
    "\n",
    "- Cuando se corre localmente la variable de ambiente no existe, por lo tanto, retorna un path: None\n",
    "\n",
    "- Ejemplo path cloud: gs://discovery-vertex-ai/aiplatform-custom-training-2022-05-01-13:27:34.025/model/\n",
    "\"\"\"\n",
    "\n",
    "# Save model artifact to local filesystem (doesn't persist)\n",
    "artifact_filename = 'model.pkl'\n",
    "local_path = artifact_filename\n",
    "with open(local_path, 'wb') as model_file:\n",
    "    pickle.dump(model, model_file)\n",
    "print('modelo guardado local')\n",
    "\n",
    "# Upload model artifact to Cloud Storage - try: guardar en path var de ambiente cuando se corre en cloud y registrar en vertex // except: retornar error cuando no existe path var de ambiente\n",
    "print('path del modelo a GCS - AIP_MODEL_DIR: ', os.getenv(\"AIP_MODEL_DIR\"))\n",
    "try:\n",
    "    model_directory = os.environ['AIP_MODEL_DIR']\n",
    "    storage_path = os.path.join(model_directory, artifact_filename)\n",
    "    blob = storage.blob.Blob.from_string(storage_path, client=storage.Client())\n",
    "    blob.upload_from_filename(local_path)\n",
    "except Exception as e: \n",
    "    print('Error: ', str(e))\n",
    "    print('MODELO NO GUARDADO EN GCS')"
   ]
  },
  {
   "cell_type": "code",
   "execution_count": null,
   "id": "f8f29a29-92a4-4780-9bdc-f9421bed23d6",
   "metadata": {},
   "outputs": [],
   "source": []
  },
  {
   "cell_type": "code",
   "execution_count": 10,
   "id": "d5a7aa92-8bb4-496a-aa7c-53bd48c5c9ac",
   "metadata": {},
   "outputs": [],
   "source": [
    "# eliminar modelo guardado en el local\n",
    "os.remove('model.pkl')"
   ]
  },
  {
   "cell_type": "code",
   "execution_count": null,
   "id": "5ce2e9ba-9de1-4508-97a7-572adb8b1b22",
   "metadata": {},
   "outputs": [],
   "source": []
  }
 ],
 "metadata": {
  "environment": {
   "kernel": "python3",
   "name": "common-cpu.m108",
   "type": "gcloud",
   "uri": "gcr.io/deeplearning-platform-release/base-cpu:m108"
  },
  "kernelspec": {
   "display_name": "Python 3 (ipykernel)",
   "language": "python",
   "name": "python3"
  },
  "language_info": {
   "codemirror_mode": {
    "name": "ipython",
    "version": 3
   },
   "file_extension": ".py",
   "mimetype": "text/x-python",
   "name": "python",
   "nbconvert_exporter": "python",
   "pygments_lexer": "ipython3",
   "version": "3.10.12"
  }
 },
 "nbformat": 4,
 "nbformat_minor": 5
}
